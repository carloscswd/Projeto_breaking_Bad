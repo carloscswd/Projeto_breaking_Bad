{
  "nbformat": 4,
  "nbformat_minor": 0,
  "metadata": {
    "colab": {
      "name": "ChatBot",
      "provenance": [],
      "authorship_tag": "ABX9TyPb4/un8+WRAfXQBq5DFEvw",
      "include_colab_link": true
    },
    "kernelspec": {
      "name": "python3",
      "display_name": "Python 3"
    }
  },
  "cells": [
    {
      "cell_type": "markdown",
      "metadata": {
        "id": "view-in-github",
        "colab_type": "text"
      },
      "source": [
        "<a href=\"https://colab.research.google.com/github/carloscswd/Projeto_breaking_Bad/blob/master/ChatBot.ipynb\" target=\"_parent\"><img src=\"https://colab.research.google.com/assets/colab-badge.svg\" alt=\"Open In Colab\"/></a>"
      ]
    },
    {
      "cell_type": "code",
      "metadata": {
        "id": "by04dFOiZAsH",
        "colab_type": "code",
        "colab": {}
      },
      "source": [
        "#description: Este é um programa de chatbot inteligente"
      ],
      "execution_count": null,
      "outputs": []
    },
    {
      "cell_type": "code",
      "metadata": {
        "id": "fPU7IfM6dHGM",
        "colab_type": "code",
        "colab": {
          "base_uri": "https://localhost:8080/",
          "height": 51
        },
        "outputId": "412e4ee8-157b-4f3c-f3c0-764ec4cd3588"
      },
      "source": [
        "pip install nltk"
      ],
      "execution_count": 46,
      "outputs": [
        {
          "output_type": "stream",
          "text": [
            "Requirement already satisfied: nltk in /usr/local/lib/python3.6/dist-packages (3.2.5)\n",
            "Requirement already satisfied: six in /usr/local/lib/python3.6/dist-packages (from nltk) (1.15.0)\n"
          ],
          "name": "stdout"
        }
      ]
    },
    {
      "cell_type": "code",
      "metadata": {
        "id": "dlBjXhiBdkMf",
        "colab_type": "code",
        "colab": {
          "base_uri": "https://localhost:8080/",
          "height": 394
        },
        "outputId": "08e33f4f-d94f-49d8-c516-c19793f806f6"
      },
      "source": [
        "pip install newspaper3k"
      ],
      "execution_count": 47,
      "outputs": [
        {
          "output_type": "stream",
          "text": [
            "Requirement already satisfied: newspaper3k in /usr/local/lib/python3.6/dist-packages (0.2.8)\n",
            "Requirement already satisfied: jieba3k>=0.35.1 in /usr/local/lib/python3.6/dist-packages (from newspaper3k) (0.35.1)\n",
            "Requirement already satisfied: tinysegmenter==0.3 in /usr/local/lib/python3.6/dist-packages (from newspaper3k) (0.3)\n",
            "Requirement already satisfied: cssselect>=0.9.2 in /usr/local/lib/python3.6/dist-packages (from newspaper3k) (1.1.0)\n",
            "Requirement already satisfied: PyYAML>=3.11 in /usr/local/lib/python3.6/dist-packages (from newspaper3k) (3.13)\n",
            "Requirement already satisfied: requests>=2.10.0 in /usr/local/lib/python3.6/dist-packages (from newspaper3k) (2.23.0)\n",
            "Requirement already satisfied: beautifulsoup4>=4.4.1 in /usr/local/lib/python3.6/dist-packages (from newspaper3k) (4.6.3)\n",
            "Requirement already satisfied: feedparser>=5.2.1 in /usr/local/lib/python3.6/dist-packages (from newspaper3k) (6.0.1)\n",
            "Requirement already satisfied: tldextract>=2.0.1 in /usr/local/lib/python3.6/dist-packages (from newspaper3k) (2.2.3)\n",
            "Requirement already satisfied: lxml>=3.6.0 in /usr/local/lib/python3.6/dist-packages (from newspaper3k) (4.2.6)\n",
            "Requirement already satisfied: feedfinder2>=0.0.4 in /usr/local/lib/python3.6/dist-packages (from newspaper3k) (0.0.4)\n",
            "Requirement already satisfied: nltk>=3.2.1 in /usr/local/lib/python3.6/dist-packages (from newspaper3k) (3.2.5)\n",
            "Requirement already satisfied: Pillow>=3.3.0 in /usr/local/lib/python3.6/dist-packages (from newspaper3k) (7.0.0)\n",
            "Requirement already satisfied: python-dateutil>=2.5.3 in /usr/local/lib/python3.6/dist-packages (from newspaper3k) (2.8.1)\n",
            "Requirement already satisfied: chardet<4,>=3.0.2 in /usr/local/lib/python3.6/dist-packages (from requests>=2.10.0->newspaper3k) (3.0.4)\n",
            "Requirement already satisfied: certifi>=2017.4.17 in /usr/local/lib/python3.6/dist-packages (from requests>=2.10.0->newspaper3k) (2020.6.20)\n",
            "Requirement already satisfied: urllib3!=1.25.0,!=1.25.1,<1.26,>=1.21.1 in /usr/local/lib/python3.6/dist-packages (from requests>=2.10.0->newspaper3k) (1.24.3)\n",
            "Requirement already satisfied: idna<3,>=2.5 in /usr/local/lib/python3.6/dist-packages (from requests>=2.10.0->newspaper3k) (2.10)\n",
            "Requirement already satisfied: sgmllib3k in /usr/local/lib/python3.6/dist-packages (from feedparser>=5.2.1->newspaper3k) (1.0.0)\n",
            "Requirement already satisfied: requests-file>=1.4 in /usr/local/lib/python3.6/dist-packages (from tldextract>=2.0.1->newspaper3k) (1.5.1)\n",
            "Requirement already satisfied: six in /usr/local/lib/python3.6/dist-packages (from feedfinder2>=0.0.4->newspaper3k) (1.15.0)\n"
          ],
          "name": "stdout"
        }
      ]
    },
    {
      "cell_type": "code",
      "metadata": {
        "id": "kjW5r_CFeMz2",
        "colab_type": "code",
        "colab": {}
      },
      "source": [
        "from newspaper import Article\n",
        "import random\n",
        "import string\n",
        "import nltk\n",
        "from sklearn.feature_extraction.text import CountVectorizer\n",
        "from sklearn.metrics.pairwise import cosine_similarity\n",
        "import numpy as np\n",
        "import warnings\n",
        "warnings.filterwarnings('ignore')"
      ],
      "execution_count": 48,
      "outputs": []
    },
    {
      "cell_type": "code",
      "metadata": {
        "id": "aBJ2BxNtgh3S",
        "colab_type": "code",
        "colab": {
          "base_uri": "https://localhost:8080/",
          "height": 34
        },
        "outputId": "a65766c1-789a-4d1e-eda3-144e5e8d9999"
      },
      "source": [
        "#Download do pacote punkt\n",
        "nltk.download('punkt', quiet=True)"
      ],
      "execution_count": 49,
      "outputs": [
        {
          "output_type": "execute_result",
          "data": {
            "text/plain": [
              "True"
            ]
          },
          "metadata": {
            "tags": []
          },
          "execution_count": 49
        }
      ]
    },
    {
      "cell_type": "code",
      "metadata": {
        "id": "_hpfqi0KhUS1",
        "colab_type": "code",
        "colab": {}
      },
      "source": [
        "#Get the article\n",
        "article = Article('https://josecarlosdasilva.netlify.app/#about')\n",
        "article.download()\n",
        "article.parse()\n",
        "article.nlp()\n",
        "corpus = article.text"
      ],
      "execution_count": 50,
      "outputs": []
    },
    {
      "cell_type": "code",
      "metadata": {
        "id": "3yCKFYc7is0c",
        "colab_type": "code",
        "colab": {
          "base_uri": "https://localhost:8080/",
          "height": 122
        },
        "outputId": "30a8bd7d-126a-4459-dea7-db0fabf3ceac"
      },
      "source": [
        "#Mostrando o texto do artigo\n",
        "print(corpus)"
      ],
      "execution_count": 51,
      "outputs": [
        {
          "output_type": "stream",
          "text": [
            "Hoje em dia muitas pessoas acessam a internet apenas pelo celular, é muito importante que o seu site seja adequado para dispositivos móveis, sendo responsivo. O desenvolvimento de interfaces digitais, como layout de sites e aplicativos para a web são melhores desenvolidos usando HTML, os sites ficam mais agradáveis visualmente estilizado com CSS e JavaScript, apresentando assim páginas com um melhor aspecto visual para comunicar os objetivos das instituições.\n",
            "\n",
            "WEB DEVELOPER (FRONT-END)\n",
            "\n",
            "Front-end é a parte da frente, tudo que é visível ao usuário numa aplicação web. Aqui são transformados o design usando HTML e CSS, utilizando também JavaScript para dar vida as páginas. Utilizando HTML são adicionados textos, títulos, imagens, vídeos e fontes. Com CSS, são cionados cores, efeitos, estilos e animações. Com JavaScript são adicionados regras comportamentais, Pop-ups, sliders, validações e demais..\n"
          ],
          "name": "stdout"
        }
      ]
    },
    {
      "cell_type": "code",
      "metadata": {
        "id": "NvPDPUxBy8z-",
        "colab_type": "code",
        "colab": {}
      },
      "source": [
        "#Tokenization\n",
        "text = corpus\n",
        "sentence_list = nltk.sent_tokenize(text) # A list of senteces"
      ],
      "execution_count": 52,
      "outputs": []
    },
    {
      "cell_type": "code",
      "metadata": {
        "id": "VD7LiCaUz4fs",
        "colab_type": "code",
        "colab": {
          "base_uri": "https://localhost:8080/",
          "height": 54
        },
        "outputId": "fe7ffbf0-8344-40eb-cefc-021a4c095886"
      },
      "source": [
        "#Mostra uma lista de sentencas\n",
        "print(sentence_list)"
      ],
      "execution_count": 53,
      "outputs": [
        {
          "output_type": "stream",
          "text": [
            "['Hoje em dia muitas pessoas acessam a internet apenas pelo celular, é muito importante que o seu site seja adequado para dispositivos móveis, sendo responsivo.', 'O desenvolvimento de interfaces digitais, como layout de sites e aplicativos para a web são melhores desenvolidos usando HTML, os sites ficam mais agradáveis visualmente estilizado com CSS e JavaScript, apresentando assim páginas com um melhor aspecto visual para comunicar os objetivos das instituições.', 'WEB DEVELOPER (FRONT-END)\\n\\nFront-end é a parte da frente, tudo que é visível ao usuário numa aplicação web.', 'Aqui são transformados o design usando HTML e CSS, utilizando também JavaScript para dar vida as páginas.', 'Utilizando HTML são adicionados textos, títulos, imagens, vídeos e fontes.', 'Com CSS, são cionados cores, efeitos, estilos e animações.', 'Com JavaScript são adicionados regras comportamentais, Pop-ups, sliders, validações e demais..']\n"
          ],
          "name": "stdout"
        }
      ]
    },
    {
      "cell_type": "code",
      "metadata": {
        "id": "lVPQl5vL1hnm",
        "colab_type": "code",
        "colab": {}
      },
      "source": [
        "# Uma função para retornar uma resposta de saudação aleatória à saudação de um usuário\n",
        "def greeting_response(text):\n",
        "  text = text.lower()\n",
        "\n",
        "  #Bots greeting response\n",
        "  bot_greetings = ['olá', 'oi', 'ei', 'opa', 'como vai?',]\n",
        "  #Saudação do usuário\n",
        "  user_greetings = ['oi', 'olá', 'alô', 'saudações', 'dia']\n",
        "\n",
        "  for word in text.split():\n",
        "    if word in user_greetings:\n",
        "      return random.choice(bot_greetings)"
      ],
      "execution_count": 68,
      "outputs": []
    },
    {
      "cell_type": "code",
      "metadata": {
        "id": "IlQQ-njx-rWx",
        "colab_type": "code",
        "colab": {}
      },
      "source": [
        "def index_sort(list_var):\n",
        "  length = len(list_var)\n",
        "  list_index = list(range(0, length))\n",
        "\n",
        "  x = list_var\n",
        "  for i in range(length):\n",
        "    for j in range(length):\n",
        "      if x[list_index[i]] > x[list_index[j]]:\n",
        "        #Troca\n",
        "        temp = list_index[i]\n",
        "        list_index[i] = list_index[j]\n",
        "        list_index[j] = temp\n",
        "\n",
        "  return list_index"
      ],
      "execution_count": 55,
      "outputs": []
    },
    {
      "cell_type": "code",
      "metadata": {
        "id": "1dejPP9k8You",
        "colab_type": "code",
        "colab": {}
      },
      "source": [
        "#Criando a resposta dos bots\n",
        "def bot_response(user_input):\n",
        "  user_input = user_input.lower()\n",
        "  sentence_list.append(user_input)\n",
        "  bot_response = ''\n",
        "  cm = CountVectorizer().fit_transform(sentence_list)\n",
        "  similarity_scores = cosine_similarity(cm[-1], cm)\n",
        "  similarity_scores_list = similarity_scores.flatten()\n",
        "  index = index_sort(similarity_scores_list)\n",
        "  index = index[1:]\n",
        "  response_flag = 0\n",
        "\n",
        "  j = 0\n",
        "  for i in range(len(index)):\n",
        "    if similarity_scores_list[index[i]] > 0.0:\n",
        "      bot_response = bot_response+' '+sentence_list[index[i]]\n",
        "      response_flag = 1\n",
        "      j = j+1\n",
        "    if j > 2:\n",
        "      break\n",
        "\n",
        "    if response_flag == 0:\n",
        "      bot_response = bot_response+' '+\"peço desculpas não entendo.\"\n",
        "\n",
        "    sentence_list.remove(user_input)"
      ],
      "execution_count": 56,
      "outputs": []
    },
    {
      "cell_type": "code",
      "metadata": {
        "id": "8--0jK3tUP-n",
        "colab_type": "code",
        "colab": {}
      },
      "source": [
        "#Start the chat\n",
        "print('Bot: eu sou um bot, para abreviar. Vou responder algumas perguntas sobre o seu problema.')\n",
        "\n",
        "exit_list = ['sair', 'Te vejo mais tarde', 'tchau', 'saindo', 'pausa']\n",
        "\n",
        "while(True):\n",
        "  user_input = input()\n",
        "  if user_input.lower() in exit_list:\n",
        "    print('Bot: Falo com você depois !')\n",
        "    break\n",
        "  else:\n",
        "    if greeting_response(user_input) != None:\n",
        "      print('Bot: '+greeting_response(user_input))\n",
        "    else:\n",
        "      print('Bot: '+bot_response(user_input))\n",
        "  "
      ],
      "execution_count": null,
      "outputs": []
    }
  ]
}